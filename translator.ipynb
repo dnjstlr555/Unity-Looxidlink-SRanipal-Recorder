{
 "cells": [
  {
   "cell_type": "code",
   "execution_count": 1,
   "metadata": {},
   "outputs": [
    {
     "name": "stdout",
     "output_type": "stream",
     "text": [
      "dict_keys(['ExperimentStartTimestampInMsUTC', 'ExperimentSequence', 'EEGData', 'EyeData', 'RealtimeEyeFreq', 'RealtimeEEGFreq', 'ExperimentEndTimestampInMsUTC'])\n"
     ]
    }
   ],
   "source": [
    "import json\n",
    "def getData(path=\"./eyeopen.json\") -> dict:\n",
    "    me={}\n",
    "    with open(path, \"r\") as f:\n",
    "        me=json.loads(f.read())\n",
    "    return me\n",
    "data=getData()\n",
    "print(data.keys())"
   ]
  },
  {
   "cell_type": "markdown",
   "metadata": {},
   "source": [
    "### 데이터 테이블\n",
    "|제목|유형|설명|\n",
    "|------|---|---|\n",
    "|ExperimentStartTimestampInMsUTC|int(mstotime 사용)|실험 시작 시간|\n",
    "|ExperimentSequence|int|n+1번째 실험|\n",
    "|ExperimentEndTimestampInMsUTC|int(mstotime 사용)|실험 종료 시간|\n",
    "|EEGData|dict|뇌파 데이터(아래 설명)|\n",
    "|EyeData|dict|눈 추적 데이터(아래 설명)|\n",
    "|RealtimeEyeFreq|dict(time:frequency)|눈 추적 데이터의 성능 지표(1초당 데이터 수집률)|\n",
    "|RealtimeEEGFreq|dict(time:frequency)|뇌파 데이터의 성능 지표(1초당 데이터 수집률)|\n",
    "### 메소드\n",
    "mstotime 메소드는 ExperimentStartTimestampInMsUTC, ExperimentEndTimestampInMsUTC와 일부 timestamp에만 작동합니다. (밀리세컨드 시간을 한국 시간대로 바꾸는 메소드)\n",
    "### 전체 데이터 기본 유형\n",
    "|제목|유형|설명|\n",
    "|------|---|---|\n",
    "|timestamp|int(mstotime 사용)|시퀀스가 만들어진 시간|\n",
    "|gametime|float|게임 내 시간 (게임 진행 시간)|\n",
    "|OrdinaryDataFlag|bool|데이터 이상 여부(정상적인 상황일경우 True)|\n",
    "|DataType|int(mstotime 사용)|데이터 종류 (ExtendedBrainInfo:EEG, ExtendedEyeData_v2:눈)|\n",
    "|data|dict|시퀀스 데이터(아래 설명)|"
   ]
  },
  {
   "cell_type": "code",
   "execution_count": 4,
   "metadata": {},
   "outputs": [
    {
     "name": "stdout",
     "output_type": "stream",
     "text": [
      "ExperimentStartTimestampInMsUTC 2022-08-04 11:15:54.133000\n",
      "ExperimentSequence 0\n",
      "EEGData dict_keys(['timestamp', 'gametime', 'OrdinaryDataFlag', 'DataType', 'data'])\n",
      "EyeData dict_keys(['timestamp', 'gametime', 'OrdinaryDataFlag', 'DataType', 'data'])\n",
      "RealtimeEyeFreq [120, 120, 120, 120, 120, 120, 121, 120, 120, 120, 120, 120, 121, 120, 120, 120, 120, 120, 121, 120, 120, 120, 120, 120, 121, 120, 120, 120, 120, 120, 121, 120, 120, 120, 120, 120, 121, 120, 120, 120, 120, 121, 120, 120, 120, 120, 120, 121, 120, 120, 120, 120, 120, 121, 120, 120, 120, 120, 120, 121, 120, 120, 120, 120, 120, 121, 120, 120, 120, 120, 120, 121, 120, 120, 120, 120, 121, 120, 120, 120, 120, 120, 121, 120, 120, 120, 120, 120, 121, 120, 120, 120, 120, 120, 121]\n",
      "RealtimeEEGFreq [558, 549, 558, 559, 501, 552, 538, 545, 503, 559, 557, 552, 560, 560, 559, 504, 568, 556, 545, 560, 553, 506, 499, 505, 550, 558, 551, 560, 558, 556, 503, 562, 499, 558, 496, 514, 561, 556, 511, 557, 557, 497, 504, 558, 557, 488, 560, 498, 560, 555, 553, 559, 496, 557, 519, 560, 562, 549, 504, 505, 505, 481, 560, 542, 558, 557, 542, 555, 552, 507, 560, 506, 567, 561, 561, 562, 558, 545, 544, 556]\n",
      "ExperimentEndTimestampInMsUTC 2022-08-04 11:15:54.133000\n"
     ]
    }
   ],
   "source": [
    "from datetime import datetime, timedelta\n",
    "def mstotime(ms):\n",
    "    epoch = datetime(1970, 1, 1)\n",
    "    return epoch+timedelta(milliseconds=ms)+timedelta(hours=9)\n",
    "for i in data.keys():\n",
    "    if i==\"EEGData\":\n",
    "        print(i, data[i][0].keys())\n",
    "    elif i==\"EyeData\":\n",
    "        print(i, data[i][0].keys())\n",
    "    elif i in [\"RealtimeEyeFreq\", \"RealtimeEEGFreq\"]:\n",
    "        print(i, [i[1] for i in data[i].items()])\n",
    "    elif i in [\"ExperimentStartTimestampInMsUTC\",\"ExperimentEndTimestampInMsUTC\"]:\n",
    "        #raw miliseconds are UTC time. KTC requires add 9 hours\n",
    "        print(i, mstotime(data[\"ExperimentStartTimestampInMsUTC\"]))\n",
    "    else:\n",
    "        print(i, data[i])\n",
    "\n",
    "\n"
   ]
  },
  {
   "cell_type": "markdown",
   "metadata": {},
   "source": [
    "\n",
    "### EEGData\n",
    "|제목|유형|설명|\n",
    "|------|---|---|\n",
    "|MainTimestamp|float|EEGRawSignal의 Timestamp(뇌파 데이터가 Constructed 됬을때 당시에 찍힌 시간)|\n",
    "|SeqTimestamp|float|EEGRawSignalData의 Timestamp(뇌파 데이터가 수집될 당시에 찍힌 시간)|\n",
    "|SeqNumber|int|EEGRawSignalData의 seq_num|\n",
    "|MainIterationSeqNum|int|EEGRawSignal이 가지고 있는 EEGRawSignalData를 분할할때 원본 EEGRawSignal의 iteration 순서|\n",
    "|ChannelData|float[]|뇌파 데이터(AF3, AF4, Fp1, Fp2, AF7, AF8, +극?, -극?)|\n",
    "|LastSensorData|dict|특정 채널의 센서가 얼굴에 잘 부착됐는지 여부|\n",
    "### 뇌파 데이터\n",
    "- https://looxidlabs.github.io/link-sdk/#/looxidlinkdata\n",
    "- EEGRawSignalData은 하나의 채널 집합 데이터를 가지고 있음 (AF3, AF4, Fp1, Fp2, AF7, AF8)\n",
    "- EEGRawSignal은 EEGRawSignalData의 List를 가지고 있었음\n",
    "- 따라서 EEGRawSignal의 EEGRawSignalData List를 압축해제?시켜서 시퀀스 데이터로 만듬\n",
    "- MainTimestamp는 EEGRawSignalData가 한꺼번에 모여진 시간대를 얘기함\n",
    "- SeqTimestamp는 EEGRawSignalData가 하나하나 수집될때 찍힌 시간대로 추정\n",
    "- 따라서 SeqTimeStamp가 더 세세함\n",
    "### 알아봐야할 점\n",
    "- MainTimestamp와 SeqTimestamp는 UTC 밀리세컨드 시간이랑 비슷한것 같은데 단위가 다른것 같아 어떤 단위를 사용하는지 찾아야 할 것 같음. (홈페이지에 X)\n",
    "- ChannelData의 총 개수는 8개이지만 공식 SDK 홈페이지에서는 6채널이 순서대로 있다고 적혀 있음\n",
    "- LastSensorData가 전부 True더라도 특정 채널의 값이 0.1875이면 제대로 캡처가 안됐을 가능성이 높음"
   ]
  },
  {
   "cell_type": "code",
   "execution_count": null,
   "metadata": {},
   "outputs": [
    {
     "data": {
      "text/plain": [
       "{'timestamp': 1659275046650,\n",
       " 'gametime': 43.48576,\n",
       " 'OrdinaryDataFlag': True,\n",
       " 'DataType': 'ExtendedBrainInfo',\n",
       " 'data': {'MainTimestamp': 1659274975.4716277,\n",
       "  'SeqTimestamp': 1659274974.937358,\n",
       "  'SeqNumber': 0,\n",
       "  'MainIterationSeqNum': 0,\n",
       "  'ChannelData': [0.12408857036692743,\n",
       "   0.13643853502732933,\n",
       "   0.08592614065720328,\n",
       "   0.05122908070434102,\n",
       "   0.14822849908214797,\n",
       "   0.1050032874945745,\n",
       "   0.1875,\n",
       "   0.0],\n",
       "  'LastSensorData': {'AF3': True,\n",
       "   'AF4': True,\n",
       "   'Fp1': True,\n",
       "   'Fp2': True,\n",
       "   'AF7': True,\n",
       "   'AF8': True}}}"
      ]
     },
     "execution_count": 138,
     "metadata": {},
     "output_type": "execute_result"
    }
   ],
   "source": [
    "data[\"EEGData\"][0]\n"
   ]
  },
  {
   "cell_type": "markdown",
   "metadata": {},
   "source": [
    "뇌파 Raw data (쭉 내려가거나 완만한 커브 그래프면 정상)"
   ]
  },
  {
   "cell_type": "code",
   "execution_count": 5,
   "metadata": {},
   "outputs": [
    {
     "data": {
      "text/plain": [
       "[<matplotlib.lines.Line2D at 0x14e321eea08>,\n",
       " <matplotlib.lines.Line2D at 0x14e36b070c8>,\n",
       " <matplotlib.lines.Line2D at 0x14e36b12488>,\n",
       " <matplotlib.lines.Line2D at 0x14e36b12648>,\n",
       " <matplotlib.lines.Line2D at 0x14e36b12888>,\n",
       " <matplotlib.lines.Line2D at 0x14e36b12ac8>,\n",
       " <matplotlib.lines.Line2D at 0x14e36b12cc8>,\n",
       " <matplotlib.lines.Line2D at 0x14e36b12ec8>]"
      ]
     },
     "execution_count": 5,
     "metadata": {},
     "output_type": "execute_result"
    },
    {
     "data": {
      "image/png": "[encoded data removed]",
      "text/plain": [
       "<Figure size 432x288 with 1 Axes>"
      ]
     },
     "metadata": {
      "needs_background": "light"
     },
     "output_type": "display_data"
    }
   ],
   "source": [
    "import matplotlib.pyplot as plt\n",
    "eegdata=sorted(data[\"EEGData\"],key=lambda k:k[\"data\"][\"SeqTimestamp\"])\n",
    "plt.plot([i[\"data\"][\"SeqTimestamp\"] for i in eegdata], [i[\"data\"][\"ChannelData\"] for i in eegdata])\n"
   ]
  },
  {
   "cell_type": "markdown",
   "metadata": {},
   "source": [
    "### EyeData\n",
    "|제목|유형|설명|\n",
    "|------|---|---|\n",
    "|isThereUserInFrontOfHMD|bool|유저가 VR을 끼고 있는지 아닌지 여부(눈이 감지됐는지)(맞으면 True)|\n",
    "|FrameSequence|int|EyeData_v2 원본 데이터의 framesequence|\n",
    "|TimestampInMs|int|EyeData_v2 원본 데이터의 timestamp|\n",
    "|verbose_data|dict|gaze_origin_mm, gaze_direction, pupil_diameter, eye_openness, pupil_position (왼쪽, 오른쪽, 중간)|\n",
    "|expression_data|dict|찡그리기, 눈 번쩍뜨기등 아바타 구현에 필요한 데이터|\n",
    "|RayFocusData|dict|쳐다본 물체의 위치, 이름, 태그등 (왼쪽, 오른쪽, 중간)|"
   ]
  },
  {
   "cell_type": "code",
   "execution_count": 6,
   "metadata": {},
   "outputs": [
    {
     "data": {
      "text/plain": [
       "dict_keys(['isThereUserInFrontOfHMD', 'FrameSequence', 'TimestampInMs', 'verbose_data', 'expression_data', 'RayFocusData'])"
      ]
     },
     "execution_count": 6,
     "metadata": {},
     "output_type": "execute_result"
    }
   ],
   "source": [
    "data[\"EyeData\"][0][\"data\"].keys()"
   ]
  },
  {
   "cell_type": "code",
   "execution_count": 7,
   "metadata": {},
   "outputs": [
    {
     "name": "stdout",
     "output_type": "stream",
     "text": [
      "isThereUserInFrontOfHMD True\n",
      "FrameSequence 26968\n",
      "TimestampInMs 3040580\n"
     ]
    }
   ],
   "source": [
    "for k, v in data[\"EyeData\"][300][\"data\"].items():\n",
    "    if k in [\"isThereUserInFrontOfHMD\", \"FrameSequence\", \"TimestampInMs\"]:\n",
    "        print(k,v)"
   ]
  },
  {
   "cell_type": "markdown",
   "metadata": {},
   "source": [
    "### Veborse Data\n",
    "|제목|유형|설명|\n",
    "|------|---|---|\n",
    "|eye_data_validata_bit_mask|int|해당 시퀀스 값의 유효성을 나타내는 bit (The bits containing all validity for this frame.)|\n",
    "|gaze_origin_mm|float[](vec3)|쳐다보는 각도를 구할때 원점 (The point in the eye from which the gaze ray originates in millimeter.(right-handed coordinate system))|\n",
    "|gaze_direction_normalized|float[](vec3)|노말라이즈드 됀 gaze 벡터 (The normalized gaze direction of the eye in [0,1].(right-handed coordinate system))|\n",
    "|pupil_diameter_mm|float|동공의 크기(The diameter of the pupil in millimeter)|\n",
    "|eye_openness|float|눈이 열린 정도|\n",
    "|pupil_position_in_sensor_area|float[](vec2)|동콩 위치(The normalized position of a pupil in [0,1])|\n",
    "### 추가 설명\n",
    "- left, right는 각각 왼쪽, 오른쪽 눈의 데이터를 얘기함\n",
    "- Combined는 왼쪽 눈과 오른쪽 눈의 중간을 계산해 나온 데이터를 얘기함\n",
    "- 관련 추가 설명은 https://developer-express.vive.com/resources/vive-sense/eye-and-facial-tracking-sdk/documentation/ 참고 (namespaces -> Eye -> EyeData_v2)<br>\n",
    "![눈 이미지](EyeData.png)"
   ]
  },
  {
   "cell_type": "code",
   "execution_count": 8,
   "metadata": {},
   "outputs": [
    {
     "data": {
      "text/plain": [
       "{'left': {'eye_data_validata_bit_mask': 31,\n",
       "  'gaze_origin_mm': [32.9012146, 2.71878052, -33.4886932],\n",
       "  'gaze_direction_normalized': [-0.02468872, -0.09124756, 0.9955139],\n",
       "  'pupil_diameter_mm': 3.17526245,\n",
       "  'eye_openness': 1.0,\n",
       "  'pupil_position_in_sensor_area': [0.481754452, 0.5385293]},\n",
       " 'right': {'eye_data_validata_bit_mask': 31,\n",
       "  'gaze_origin_mm': [-30.2095032, 2.7089386, -35.697937],\n",
       "  'gaze_direction_normalized': [-0.008239746, -0.07310486, 0.997283936],\n",
       "  'pupil_diameter_mm': 3.0065155,\n",
       "  'eye_openness': 1.0,\n",
       "  'pupil_position_in_sensor_area': [0.47123462, 0.551500857]},\n",
       " 'combined': {'eye_data_validata_bit_mask': 3,\n",
       "  'gaze_origin_mm': [2.084732, 2.713974, -34.5674438],\n",
       "  'gaze_direction_normalized': [-0.0166625977, -0.08239746, 0.9964447],\n",
       "  'pupil_diameter_mm': 0.0,\n",
       "  'eye_openness': 0.0,\n",
       "  'pupil_position_in_sensor_area': [0.0, 0.0],\n",
       "  'convergence_distance_validity': False,\n",
       "  'convergence_distance_mm': 0.0}}"
      ]
     },
     "execution_count": 8,
     "metadata": {},
     "output_type": "execute_result"
    }
   ],
   "source": [
    "data[\"EyeData\"][300][\"data\"][\"verbose_data\"]"
   ]
  },
  {
   "cell_type": "markdown",
   "metadata": {},
   "source": [
    "### Ray Focus Data\n",
    "|제목|유형|설명|\n",
    "|------|---|---|\n",
    "|ColidedObjectPosition|float[](vec3)|쳐다보는 위치에 있는 물체의 좌표(쳐다보는 좌표X)|\n",
    "|ColidedObjectTag|string|쳐다보는 위치에 있는 물체의 유니티 태그|\n",
    "|ColidedObjectName|string|쳐다보는 위치에 있는 물체의 이름|\n",
    "|SceneOfColidedObject|string|물체가 위치해 있는 씬의 이름|\n",
    "|ColidedObjectLayer|int|쳐다보는 위치에 있는 물체의 유니티 레이어|\n",
    "|RayOriginPos|float[](vec3)|계산할때 사용한 눈의 위치 원점(유니티 좌표계)|\n",
    "|RayDirectionPos|float[](vec3)|계산할때 사용한 눈위 위치로부터 출발한 각도 (벡터)|\n",
    "|Validaty|bool|해당 값이 유효한지 아닌지의 여부(True가 아닐경우 안의 내용은 전부 무효)|\n",
    "### 추가 정보\n",
    "- 왼쪽, 오른쪽, 가운데 정보가 있음."
   ]
  },
  {
   "cell_type": "code",
   "execution_count": 13,
   "metadata": {},
   "outputs": [
    {
     "data": {
      "text/plain": [
       "{'left': {'Data': {'ColidedObjectPosition': [0.0, 0.0, 0.0],\n",
       "   'ColidedObjectTag': 'Undefined',\n",
       "   'ColidedObjectName': 'Undefined',\n",
       "   'SceneOfColidedObject': 'Undefined',\n",
       "   'ColidedObjectLayer': -9999,\n",
       "   'RayOriginPos': [0.0, 0.0, 0.0],\n",
       "   'RayDirectionPos': [0.0, 0.0, 0.0]},\n",
       "  'Validaty': False},\n",
       " 'right': {'Data': {'ColidedObjectPosition': [7.661859, 1.873301, 2.77432919],\n",
       "   'ColidedObjectTag': 'Untagged',\n",
       "   'ColidedObjectName': 'Brain_Part_04',\n",
       "   'SceneOfColidedObject': 'SampleScene',\n",
       "   'ColidedObjectLayer': 0,\n",
       "   'RayOriginPos': [0.030585466, 0.0009073029, -0.0348689444],\n",
       "   'RayDirectionPos': [0.187470347, 0.0390016474, 0.9814957]},\n",
       "  'Validaty': True},\n",
       " 'combined': {'Data': {'ColidedObjectPosition': [7.661859,\n",
       "    1.873301,\n",
       "    2.77432919],\n",
       "   'ColidedObjectTag': 'Untagged',\n",
       "   'ColidedObjectName': 'Brain_Part_04',\n",
       "   'SceneOfColidedObject': 'SampleScene',\n",
       "   'ColidedObjectLayer': 0,\n",
       "   'RayOriginPos': [-0.0303869639, 0.000906906149, -0.03486635],\n",
       "   'RayDirectionPos': [0.18747057, 0.0389711745, 0.9814968]},\n",
       "  'Validaty': True}}"
      ]
     },
     "execution_count": 13,
     "metadata": {},
     "output_type": "execute_result"
    }
   ],
   "source": [
    "data[\"EyeData\"][2335][\"data\"][\"RayFocusData\"]"
   ]
  },
  {
   "cell_type": "code",
   "execution_count": 12,
   "metadata": {},
   "outputs": [
    {
     "name": "stdout",
     "output_type": "stream",
     "text": [
      "leftValidity: 4664\n",
      "rightValidity: 4716\n",
      "combinedValidity: 4700\n",
      "({'timestamp': 1659579373592, 'gametime': 40.8197365, 'OrdinaryDataFlag': True, 'DataType': 'ExtendedEyeData_v2', 'data': {'isThereUserInFrontOfHMD': True, 'FrameSequence': 29003, 'TimestampInMs': 3057535, 'verbose_data': {'left': {'eye_data_validata_bit_mask': 31, 'gaze_origin_mm': [32.4346, 0.719909668, -33.8698273], 'gaze_direction_normalized': [-0.187728882, 0.03590393, 0.9815521], 'pupil_diameter_mm': 2.89082336, 'eye_openness': 1.0, 'pupil_position_in_sensor_area': [0.5271997, 0.5889091]}, 'right': {'eye_data_validata_bit_mask': 31, 'gaze_origin_mm': [-30.5757751, 0.847732544, -34.8711243], 'gaze_direction_normalized': [-0.1932373, 0.0395813, 0.9803467], 'pupil_diameter_mm': 2.940796, 'eye_openness': 1.0, 'pupil_position_in_sensor_area': [0.5178189, 0.589900255]}, 'combined': {'eye_data_validata_bit_mask': 3, 'gaze_origin_mm': [-30.51445, 0.8475952, -34.8701477], 'gaze_direction_normalized': [-0.193222046, 0.0395813, 0.9803467], 'pupil_diameter_mm': 0.0, 'eye_openness': 0.0, 'pupil_position_in_sensor_area': [0.0, 0.0], 'convergence_distance_validity': False, 'convergence_distance_mm': 0.0}}, 'expression_data': {'left': {'eye_frown': 0.0, 'eye_squeeze': 0.0, 'eye_wide': 0.4313047}, 'right': {'eye_frown': 0.0, 'eye_squeeze': 0.0, 'eye_wide': 0.4313047}}, 'RayFocusData': {'left': {'Data': {'ColidedObjectPosition': [0.0, 0.0, 0.0], 'ColidedObjectTag': 'Undefined', 'ColidedObjectName': 'Undefined', 'SceneOfColidedObject': 'Undefined', 'ColidedObjectLayer': -9999, 'RayOriginPos': [0.0, 0.0, 0.0], 'RayDirectionPos': [0.0, 0.0, 0.0]}, 'Validaty': False}, 'right': {'Data': {'ColidedObjectPosition': [7.661859, 1.873301, 2.77432919], 'ColidedObjectTag': 'Untagged', 'ColidedObjectName': 'Brain_Part_04', 'SceneOfColidedObject': 'SampleScene', 'ColidedObjectLayer': 0, 'RayOriginPos': [0.030585466, 0.0009073029, -0.0348689444], 'RayDirectionPos': [0.187470347, 0.0390016474, 0.9814957]}, 'Validaty': True}, 'combined': {'Data': {'ColidedObjectPosition': [7.661859, 1.873301, 2.77432919], 'ColidedObjectTag': 'Untagged', 'ColidedObjectName': 'Brain_Part_04', 'SceneOfColidedObject': 'SampleScene', 'ColidedObjectLayer': 0, 'RayOriginPos': [-0.0303869639, 0.000906906149, -0.03486635], 'RayDirectionPos': [0.18747057, 0.0389711745, 0.9814968]}, 'Validaty': True}}}}, 2335)\n"
     ]
    }
   ],
   "source": [
    "print(\"leftValidity:\",len([i for ind, i in enumerate(data[\"EyeData\"]) if i[\"data\"][\"RayFocusData\"][\"left\"][\"Data\"][\"ColidedObjectName\"]!='Undefined']))\n",
    "print(\"rightValidity:\",len([i for ind, i in enumerate(data[\"EyeData\"]) if i[\"data\"][\"RayFocusData\"][\"right\"][\"Data\"][\"ColidedObjectName\"]!='Undefined']))\n",
    "print(\"combinedValidity:\",len([i for ind, i in enumerate(data[\"EyeData\"]) if i[\"data\"][\"RayFocusData\"][\"combined\"][\"Data\"][\"ColidedObjectName\"]!='Undefined']))\n",
    "print([(i,ind) for ind, i in enumerate(data[\"EyeData\"]) if i[\"data\"][\"RayFocusData\"][\"combined\"][\"Data\"][\"ColidedObjectName\"]!='Undefined'][0])"
   ]
  }
 ],
 "metadata": {
  "kernelspec": {
   "display_name": "Python 3.7.9 64-bit ('3.7.9')",
   "language": "python",
   "name": "python3"
  },
  "language_info": {
   "codemirror_mode": {
    "name": "ipython",
    "version": 3
   },
   "file_extension": ".py",
   "mimetype": "text/x-python",
   "name": "python",
   "nbconvert_exporter": "python",
   "pygments_lexer": "ipython3",
   "version": "3.7.9"
  },
  "orig_nbformat": 4,
  "vscode": {
   "interpreter": {
    "hash": "bd221f5f171a5cf1110bccf59e7ce38fbb52895b355b0a20126ec69308631072"
   }
  }
 },
 "nbformat": 4,
 "nbformat_minor": 2
}
